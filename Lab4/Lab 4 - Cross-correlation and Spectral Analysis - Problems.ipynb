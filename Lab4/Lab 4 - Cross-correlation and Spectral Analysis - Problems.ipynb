{
 "cells": [
  {
   "cell_type": "markdown",
   "metadata": {},
   "source": [
    "# 1 Cross-correlation"
   ]
  },
  {
   "cell_type": "markdown",
   "metadata": {},
   "source": [
    "It has been shown that noise records at two seismic stations, when cross-correlated and stacked,\n",
    "are very closely associated with the Green's function between these two seismic stations (i.e. given\n",
    "a delta force at one station, the displacement recorded at the other station). In the class website,\n",
    "two files are given: one is a vertical component seismogram at PHL (Park Hill) and the other is\n",
    "a vertical component seismogram at MLAC (Mammoth Lakes). Both are records for one day (24\n",
    "hours) on February 1, 2003. Sampling rate is dt = 1.0 second.\n",
    "\n",
    " 1. Take the cross-correlation of these seismograms (based on FFT) using the record at PHL as $x(t)$\n",
    "    and that at MLAC as $y(t)$ and plot $C_{xy}(\\tau)$. Zoom in your plot between [-250; 250] seconds.\n",
    " 2. Bit conversion is often used for the cross-correlation Greens function approach. It simply\n",
    "    changes any positive numbers to 1 and negative numbers to -1 (numpy `sign()` function).\n",
    "    Apply this to the data at PHL and MLAC and compute their cross-correlation. Compare\n",
    "    the results against those from the previous step. Does bit-conversion work in this case to\n",
    "    preserve the phase information of the true cross-correlation? (Note the amplitude of\n",
    "    bit-converted cross-correlation is of no meaning).\n",
    "\n",
    "    _Hint_: for discrete cross-correlation using fft:\n",
    "    - suppose x = [x0 x1 ... x(N-1)]; y = [y0 y1 ... y(N-1)]\n",
    "    - note conv(x,y)=v=[v0 v1 ... v(2N-2)], and notice the relationship between convolution and cross-correlation\n",
    "    - also note how the fourier transform of the cross-correlation is related to conj(X(w))Y(w)\n",
    "    - if we first pad the end of each x and y array with N-1 zeros, convolution theorem suggests that we can interpret the inverse transform of X*(w)Y(w) as the result of a convolution (length 2N-1), w, interpreted as:  \n",
    "          w = ifft(...)\n",
    "            = [w[lag = 0] w[lag = 1 dt] ... w[lag = (N-1) dt] w[lag = -(N-1) dt] ... w[lag = -1 dt]]\n",
    "    - we then must apply fftshift to center the time shift/lag axis at 0\n",
    "    - the point of all this fft business is that it's much faster than directly convolving; you can check against  np.correlate(x, y, mode='same')\n",
    "    - \"zoom your plot to [-250, 250]\" is in reference to the time lag axis in the above process\n",
    "\n",
    "    _Hint_: you can load the ascii file into Python by `genfromtxt` function:  \n",
    "        tmp = np.genfromtxt('MLAC_data.txt')  \n",
    "        mlac = tmp.flatten()"
   ]
  },
  {
   "cell_type": "markdown",
   "metadata": {},
   "source": [
    "# 2 Normal Modes Measured from Long Period Seismometer"
   ]
  },
  {
   "cell_type": "markdown",
   "metadata": {},
   "source": [
    "Background: The solid earth 'rings' like a bell after being struck by a great earthquake. These\n",
    "are the normal modes associated with internal structures (density and elastic moduli) of the Earth,\n",
    "and the excitation amplitudes of these modes are determined by the earthquake source mechanism.\n",
    "The frequencies of these normal modes of oscillation are very low, usually between 0.1 milliHertz\n",
    "(mHz) and 10 mHz. It is hard to see them above 10 mHz because these higher frequency modes\n",
    "attenuate quickly, or the frequency spacings are too small to be identified individually. Because\n",
    "the Earth is a complex structure, with twisting, breathing, and more complex spatial structure in\n",
    "its modes, the modal frequencies are not simple multiples of a single fundamental as is the case\n",
    "for a guitar string. They are labelled with a notation (e.g. like $_0S_2$ for spheroidal modes or like\n",
    "$_1T_8$ for toroidal modes) based on the spherical harmonic spatial distribution that the mode corresponds\n",
    "to, in the same way that the electron wavefunctions for the Hydrogen atom are labelled. Geophysicists\n",
    "measure these frequencies because they can be used to invert for models of the Earth's\n",
    "internal seismic velocity and density structures. With very high-resolution data, one can even see\n",
    "splitting of these resonances due to the Earth’s rotation and elliptical shape, in a matter analogous\n",
    "to the Zeeman splitting of atomic spectral lines. You can also optically detect similar phenomenon\n",
    "('helioseismology') going on in the sun, from which one can also test models of the sun's interior.\n",
    "(More descriptions can be found on any introductory solid-earth geophysics book).\n",
    "Here we examine three days of very long period seismic data recorded on the horizontal direction at\n",
    "station NWAO (Narrogin, Western Australia) after the devastating $M_w = 9.0$, Mar 11th, 2011 Honshu,\n",
    "Japan earthquake. Data `nwao.vh1` (VH channel, $dt = 10 \\text{ sec}$) is given as an ascii\n",
    "file with two columns: time and velocity (in counts from the digitizer).\n",
    "\n",
    " 1. Plot the raw data with a time axis in hours.\n",
    " 2. Plot the power spectrum of your raw data as a function of frequency (in mHz) **without**\n",
    "    any windowing.\n",
    " 3. Plot the power spectrum of your raw data after a) removing the trend with detrend\n",
    "    function, and b) applying a hanning window $w_n = 1 - \\cos(2 \\pi \\frac{n}{N}) ; 0 \\leq n \\leq N$.\n",
    " 4. Plot on top of each other the power spectra from 2 and 3 between [0.1, 2.2] mHz, and comment on the difference.\n",
    " 5. Using plt.annotate(...), identify any normal modes you can see. Use [Guy Masters's normal-mode\n",
    "    notes](files/modes.pdf) (Page 108, Table 1) to help guide your identification."
   ]
  }
 ],
 "metadata": {
  "kernelspec": {
   "display_name": "Python 2",
   "language": "python",
   "name": "python2"
  },
  "language_info": {
   "codemirror_mode": {
    "name": "ipython",
    "version": 2
   },
   "file_extension": ".py",
   "mimetype": "text/x-python",
   "name": "python",
   "nbconvert_exporter": "python",
   "pygments_lexer": "ipython2",
   "version": "2.7.12"
  }
 },
 "nbformat": 4,
 "nbformat_minor": 1
}
