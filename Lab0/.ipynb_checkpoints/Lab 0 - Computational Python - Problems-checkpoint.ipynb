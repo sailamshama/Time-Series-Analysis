{
 "cells": [
  {
   "cell_type": "markdown",
   "metadata": {},
   "source": [
    "# Lab 0 - Python Intro and IPython Tutorial"
   ]
  },
  {
   "cell_type": "code",
   "execution_count": null,
   "metadata": {
    "collapsed": true
   },
   "outputs": [],
   "source": [
    "%matplotlib inline\n",
    "import numpy as np\n",
    "import matplotlib.pyplot as plt"
   ]
  },
  {
   "cell_type": "markdown",
   "metadata": {},
   "source": [
    "## 1 Warm-up Exercises"
   ]
  },
  {
   "cell_type": "markdown",
   "metadata": {},
   "source": [
    "Try the following commands on your IPython terminal and see what output they produce."
   ]
  },
  {
   "cell_type": "code",
   "execution_count": null,
   "metadata": {
    "collapsed": true
   },
   "outputs": [],
   "source": [
    "a = 1 + 5\n",
    "b = 2\n",
    "c = a + b\n",
    "print(a / b)\n",
    "print(a // b)\n",
    "print(a - b)\n",
    "print(a * b)\n",
    "print(a**b)"
   ]
  },
  {
   "cell_type": "code",
   "execution_count": null,
   "metadata": {
    "collapsed": true
   },
   "outputs": [],
   "source": [
    "a = np.array([[3, 1],\n",
    "              [1, 3]])\n",
    "b = np.array([[3],\n",
    "              [5]])\n",
    "print(a * b)\n",
    "print(np.dot(a, b))\n",
    "print(np.dot(b.T, a))\n",
    "c = a**(-1)\n",
    "print(c * a)"
   ]
  },
  {
   "cell_type": "code",
   "execution_count": null,
   "metadata": {
    "collapsed": true
   },
   "outputs": [],
   "source": [
    "t = np.arange(10)\n",
    "g = np.sin(t)\n",
    "h = np.cos(t)\n",
    "plt.figure()\n",
    "plt.plot(t, g, 'k', t, h, 'r');\n",
    "\n",
    "t = np.arange(0, 9.1, 0.1)\n",
    "g = np.sin(t)\n",
    "h = np.cos(t)\n",
    "plt.figure()\n",
    "plt.plot(t, g, 'ok', t, h, '+r');"
   ]
  },
  {
   "cell_type": "code",
   "execution_count": null,
   "metadata": {
    "collapsed": true
   },
   "outputs": [],
   "source": [
    "t = np.linspace(0, 10, 20)\n",
    "print(t)\n",
    "t = np.logspace(0.001, 10, 9)\n",
    "print(t)\n",
    "t = np.logspace(-3, 1, 9)\n",
    "print(t)\n",
    "y = np.exp(-t)\n",
    "\n",
    "plt.figure()\n",
    "plt.plot(t, y, 'ok')\n",
    "plt.figure()\n",
    "plt.semilogy(t, y, 'ok')"
   ]
  },
  {
   "cell_type": "markdown",
   "metadata": {},
   "source": [
    "## 2 Integration Function"
   ]
  },
  {
   "cell_type": "markdown",
   "metadata": {},
   "source": [
    "Here is a more complicated function that computes the integral $y(x)$ with interval $dx$:\n",
    "\n",
    "$$c = \\int y(x) dx \\sim \\sum_{i=1}^N y_i dx_i .$$\n",
    "\n",
    "It can deal with both cases of even and uneven sampling."
   ]
  },
  {
   "cell_type": "code",
   "execution_count": null,
   "metadata": {
    "collapsed": true
   },
   "outputs": [],
   "source": [
    "def integral(y, dx):\n",
    "    # function c = integral(y, dx)\n",
    "    # To numerically calculate integral of vector y with interval dx:\n",
    "    # c = integral[ y(x) dx]\n",
    "    # ------ This is a demonstration program ------\n",
    "    n = len(y) # Get the length of vector y\n",
    "    nx = len(dx) if np.iterable(dx) else 1\n",
    "    c = 0 # initialize c because we are going to use it\n",
    "    # dx is a scalar <=> x is equally spaced\n",
    "    if nx == 1: # ’==’, equal to, as a condition\n",
    "        for k in range(1, n):\n",
    "            c = c + (y[k] + y[k-1]) * dx / 2\n",
    "    # x is not equally spaced, then length of dx has to be n-1\n",
    "    elif nx == n-1:\n",
    "        for k in range(1, n):\n",
    "            c = c + (y[k] + y[k-1]) * dx[k-1] / 2\n",
    "    # If nx is not 1 or n-1, display an error messege and terminate program\n",
    "    else:\n",
    "        print('Lengths of y and dx do not match!')\n",
    "    return c\n"
   ]
  },
  {
   "cell_type": "markdown",
   "metadata": {},
   "source": [
    "Save this program as `integral.py`. Now we can call it to compute $\\int_0^\\pi \\sin(t) dt$\n",
    "with an evenly sampled time series (`even.py`)."
   ]
  },
  {
   "cell_type": "code",
   "execution_count": null,
   "metadata": {
    "collapsed": true
   },
   "outputs": [],
   "source": [
    "# number of samples\n",
    "nt = 100\n",
    "# generate time vector\n",
    "t = np.linspace(0, np.pi, nt)\n",
    "# compute sample interval (evenly sampled, only one number)\n",
    "dt = t[1] - t[0]\n",
    "y = np.sin(t)\n",
    "plt.plot(t, y, 'r+')\n",
    "c = integral(y, dt)\n",
    "print(c)"
   ]
  },
  {
   "cell_type": "markdown",
   "metadata": {},
   "source": [
    "### Part 1"
   ]
  },
  {
   "cell_type": "markdown",
   "metadata": {},
   "source": [
    "First plot $y(t)$. Is the output $c$ value what you are expecting for\n",
    "$\\int_0^\\pi \\sin(t) dt$? How can you improve the accuracy of your computation?"
   ]
  },
  {
   "cell_type": "markdown",
   "metadata": {},
   "source": [
    "### Part 2"
   ]
  },
  {
   "cell_type": "markdown",
   "metadata": {},
   "source": [
    "For an unevenly spaced time series that depicts $\\sin(4 \\pi t^2)$ (so-called chirp function),\n",
    "compute $\\int_0^1 \\sin(4 \\pi t^2) dt$ (saved as `uneven.py`)."
   ]
  },
  {
   "cell_type": "code",
   "execution_count": null,
   "metadata": {
    "collapsed": true
   },
   "outputs": [],
   "source": [
    "nt = 20\n",
    "# sampling between [0,0.5]\n",
    "t1 = np.linspace(0, 0.5, nt)\n",
    "# double sampling between [0.5,1]\n",
    "t2 = np.linspace(0.5, 1, 2*nt)\n",
    "# concatenate time vector\n",
    "t = np.concatenate((t1[:-1], t2))\n",
    "# compute y values (f=2t)\n",
    "y = np.sin(2 * np.pi * 2 * t**2)\n",
    "plt.plot(t, y)\n",
    "# compute sampling interval vector\n",
    "dt = t[1:] - t[:-1]\n",
    "c = integral(y, dt)\n",
    "print(c)"
   ]
  },
  {
   "cell_type": "markdown",
   "metadata": {},
   "source": [
    "Show your plot of $y(t)$ (for $nt = 50$). Try different $nt$ values and see\n",
    "how the integral results change. Write a `for` loop around the statements above to try\n",
    "a series of `nt` values (e.g, 20, 50, 100, 500, 1000) and generate a plot of $c(nt)$.\n",
    "What value does $c$ converge to after using larger and larger $nt$? (Please attach your\n",
    "modified Python code.)"
   ]
  },
  {
   "cell_type": "markdown",
   "metadata": {},
   "source": [
    "## 3 Accuracy of Sampling"
   ]
  },
  {
   "cell_type": "markdown",
   "metadata": {},
   "source": [
    "Let us sample the function $g(t) = \\cos(2 \\pi f t)$ at sampling interval $dt = 1$, for frequency values of\n",
    "$f = 0, 0.25, 0.5, 0.75, 1.0$ hertz."
   ]
  },
  {
   "cell_type": "markdown",
   "metadata": {},
   "source": [
    "In each case, plot on the screen the points of the resulting time series (as isolated red crosses) to\n",
    "see how well it approximates $g(t)$ (plotted as a blue-dotted line, try a very small $dt$ fine\n",
    "sampling). (Submit only plots for frequencies of $0.25$ and $0.75$\n",
    "Hertz, use xlabel, ylabel, title commands to annotate each plot).\n",
    "For each frequency that you investigated, do you think the sampling time series is a fair representation of\n",
    "the original time series $g(t)$? What is the apparent frequency for the sampling time series? (Figure out\n",
    "after how many points (N) the series repeats itself, then the apparent frequency = 1/(N*dt). You can do this either\n",
    "mathematically or by inspection. A flat time series has apparent frequency = 0.) Can you guess with a\n",
    "sampling interval of $dt = 1$, what is the maximum frequency $f$ of $g(t)$\n",
    "such that it can be fairly represented by the discrete time series? (Please attach your Python code.)"
   ]
  }
 ],
 "metadata": {
  "kernelspec": {
   "display_name": "CSC411_py2",
   "language": "python",
   "name": "csc411_py2"
  },
  "language_info": {
   "codemirror_mode": {
    "name": "ipython",
    "version": 2
   },
   "file_extension": ".py",
   "mimetype": "text/x-python",
   "name": "python",
   "nbconvert_exporter": "python",
   "pygments_lexer": "ipython2",
   "version": "2.7.14"
  }
 },
 "nbformat": 4,
 "nbformat_minor": 1
}
